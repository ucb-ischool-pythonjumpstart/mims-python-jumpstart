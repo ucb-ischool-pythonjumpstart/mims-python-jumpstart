{
 "cells": [
  {
   "cell_type": "markdown",
   "metadata": {},
   "source": [
    "# Starting to Work with notebooks\n",
    "\n",
    "This alerts you to the fact that the Python interpreter is now running. You can write statements into this prompt, and the Python interpreter will execute them when you press Enter. "
   ]
  },
  {
   "cell_type": "markdown",
   "metadata": {},
   "source": [
    "![](https://media.giphy.com/media/g5zvwUa9720pO/giphy.gif)"
   ]
  },
  {
   "cell_type": "code",
   "execution_count": null,
   "metadata": {},
   "outputs": [],
   "source": [
    "7"
   ]
  },
  {
   "cell_type": "markdown",
   "metadata": {},
   "source": [
    "One of the simplest statements could just be a number.  We could also type some expressions."
   ]
  },
  {
   "cell_type": "code",
   "execution_count": null,
   "metadata": {},
   "outputs": [],
   "source": [
    "7 + 7"
   ]
  },
  {
   "cell_type": "markdown",
   "metadata": {},
   "source": [
    "We can check to see if two numbers are equal."
   ]
  },
  {
   "cell_type": "code",
   "execution_count": null,
   "metadata": {},
   "outputs": [],
   "source": [
    "14 == 7 + 7"
   ]
  },
  {
   "cell_type": "code",
   "execution_count": null,
   "metadata": {},
   "outputs": [],
   "source": [
    "2 + 2 == 5"
   ]
  },
  {
   "cell_type": "markdown",
   "metadata": {},
   "source": [
    "Notice that we need to use a double equal sign to do this. This tests for equality and returns the \"Boolean\" value `True` if the things are equal. It returns the \"Boolean\" value `False` if the things are not equal. \n",
    "\n",
    "There are other relational operators as well, `>`, `<`, `<=`, `>=`, and `!=`. "
   ]
  },
  {
   "cell_type": "markdown",
   "metadata": {},
   "source": [
    "We can also type text, but we would have to put the text in quotes. This is what we call a string."
   ]
  },
  {
   "cell_type": "code",
   "execution_count": null,
   "metadata": {},
   "outputs": [],
   "source": [
    "'Dazed'"
   ]
  },
  {
   "cell_type": "markdown",
   "metadata": {},
   "source": [
    "In fact, the + operator works on strings too, but it does something different than it does for numbers."
   ]
  },
  {
   "cell_type": "code",
   "execution_count": null,
   "metadata": {},
   "outputs": [],
   "source": [
    "'Dazed' + 'and' + 'Confused'"
   ]
  },
  {
   "cell_type": "markdown",
   "metadata": {},
   "source": [
    "Hmm, I'd like there to be space between each of the words. How would you recommend that we accomplish adding this space? "
   ]
  },
  {
   "cell_type": "code",
   "execution_count": null,
   "metadata": {},
   "outputs": [],
   "source": []
  },
  {
   "cell_type": "markdown",
   "metadata": {},
   "source": [
    "All of these statements are what we call *expressions*. Python is simply calculating the answer and printing it out. We are really just using the interpreter as a glorified calculator at the moment, but that's enough to demonstrate some of Python's basic features."
   ]
  },
  {
   "cell_type": "markdown",
   "metadata": {},
   "source": [
    "# Pair Programming\n",
    "\n",
    "Do the following work with two people talking, and one person typing after you agree on a strategy. \n",
    "\n",
    "1. Insert a new markdown section heading that says: \"Answers to Conversational Pair Programming.\" \n",
    "2. In that same cell, write a few short sentences that describe one interest that you and your programming pair _share_ and one attribute that you and your programming partner _do not share_. \n",
    "3. Insert a new markdown scetion heading that says: \"Answers to Programming Pair Programming.\" \n",
    "4. Import the `math` module by issuing the command `import math` \n",
    "5. Is the cosine of pi greater than, or less than 0? To find the answer, you will have to use the new methods that are available *in* the `math` module. "
   ]
  }
 ],
 "metadata": {
  "kernelspec": {
   "display_name": "Python 3",
   "language": "python",
   "name": "python3"
  },
  "language_info": {
   "codemirror_mode": {
    "name": "ipython",
    "version": 3
   },
   "file_extension": ".py",
   "mimetype": "text/x-python",
   "name": "python",
   "nbconvert_exporter": "python",
   "pygments_lexer": "ipython3",
   "version": "3.6.4"
  }
 },
 "nbformat": 4,
 "nbformat_minor": 1
}
