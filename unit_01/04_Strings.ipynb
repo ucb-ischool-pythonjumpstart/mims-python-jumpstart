{
 "cells": [
  {
   "cell_type": "markdown",
   "metadata": {},
   "source": [
    "# Strings"
   ]
  },
  {
   "cell_type": "markdown",
   "metadata": {},
   "source": [
    "String manipulation is a crucial ability in software engineering, and Python comes with an extremely powerful set of tools that makes modifying and creating strings easy. Strings are just representations of character sequences. We'll dive into these details later on in the course, but suffice it to say they're just a sequence of individual characters combined into one little object."
   ]
  },
  {
   "cell_type": "markdown",
   "metadata": {},
   "source": [
    "## Creating Strings"
   ]
  },
  {
   "cell_type": "markdown",
   "metadata": {},
   "source": [
    "You can create a string in Python using either single or double quotes:"
   ]
  },
  {
   "cell_type": "code",
   "execution_count": 1,
   "metadata": {},
   "outputs": [],
   "source": [
    "s = 'This is a single quote string'\n",
    "print(s)"
   ]
  },
  {
   "cell_type": "code",
   "execution_count": 2,
   "metadata": {},
   "outputs": [],
   "source": [
    "s = \"This is a double quote string\"\n",
    "print(s)"
   ]
  },
  {
   "cell_type": "markdown",
   "metadata": {},
   "source": [
    "At times, you may want to create a string that takes more than one line.  The simplest way is to use triple quotes (single or double).  You can think about this as similar to a block quote."
   ]
  },
  {
   "cell_type": "code",
   "execution_count": 3,
   "metadata": {},
   "outputs": [
    {
     "name": "stdout",
     "output_type": "stream",
     "text": [
      "To be or not to be\n",
      "that is the question\n"
     ]
    }
   ],
   "source": [
    "a = \"\"\"To be or not to be\n",
    "that is the question\"\"\"\n",
    "print(a)"
   ]
  },
  {
   "cell_type": "markdown",
   "metadata": {},
   "source": [
    "However, at times, you will not want to include the return character. Instead you can include an escape character that will move the \"return\" statement. We'll be going into more escape characters shortly."
   ]
  },
  {
   "cell_type": "code",
   "execution_count": 4,
   "metadata": {},
   "outputs": [
    {
     "name": "stdout",
     "output_type": "stream",
     "text": [
      "to be or not to be that is the question\n"
     ]
    }
   ],
   "source": [
    "a = \"to be or not to be \\\n",
    "that is the question\"\n",
    "print(a)"
   ]
  },
  {
   "cell_type": "markdown",
   "metadata": {},
   "source": [
    "### Printing with f-Strings\n",
    "Another way of printing strings is using f-strings. They're especially useful when printing something with a variable"
   ]
  },
  {
   "cell_type": "code",
   "execution_count": 5,
   "metadata": {},
   "outputs": [
    {
     "name": "stdout",
     "output_type": "stream",
     "text": [
      "the answer is 42\n"
     ]
    }
   ],
   "source": [
    "answer = 42\n",
    "print(f\"the answer is {answer}\")"
   ]
  },
  {
   "cell_type": "markdown",
   "metadata": {},
   "source": [
    "## String Operators"
   ]
  },
  {
   "cell_type": "markdown",
   "metadata": {},
   "source": [
    "Python has a host of operators that you can use to manipulate strings.  You'll find that a lot of these are quite intuitive."
   ]
  },
  {
   "cell_type": "markdown",
   "metadata": {},
   "source": [
    "### Concatenation (`+`)"
   ]
  },
  {
   "cell_type": "code",
   "execution_count": 6,
   "metadata": {},
   "outputs": [
    {
     "data": {
      "text/plain": [
       "'The best class'"
      ]
     },
     "execution_count": 6,
     "metadata": {},
     "output_type": "execute_result"
    }
   ],
   "source": [
    "a = \"The \"\n",
    "b = \"best class\"\n",
    "a + b"
   ]
  },
  {
   "cell_type": "markdown",
   "metadata": {},
   "source": [
    "Notice that the plus sign does not add strings; it combines two strings together. This operation didn't change a or b. Instead, a brand-new string was created. Also note that we had to include an extra space at the end of a. Concatenating does not add spaces unless we add them ourselves."
   ]
  },
  {
   "cell_type": "markdown",
   "metadata": {},
   "source": [
    "### Duplication (`*`)\n",
    "\n",
    "We can use the * operator to concatenate a string to itself multiple times."
   ]
  },
  {
   "cell_type": "code",
   "execution_count": 7,
   "metadata": {},
   "outputs": [
    {
     "data": {
      "text/plain": [
       "'The The The The '"
      ]
     },
     "execution_count": 7,
     "metadata": {},
     "output_type": "execute_result"
    }
   ],
   "source": [
    "a * 4"
   ]
  },
  {
   "cell_type": "markdown",
   "metadata": {},
   "source": [
    "## Character Extraction (`[]`)\n",
    "\n",
    "As we're going to learn later, strings are an example of a Sequence object in Python. A string is actually implemented as a sequence of characters, and it comes with many methods for accessing characters in this sequence.\n",
    "\n",
    "As an example, let's say we want to get an individual character from a string. To do this, we just need to put the position we want in square brackets. The catch is that (like good computer scientists) we have to count positions starting from 0."
   ]
  },
  {
   "cell_type": "code",
   "execution_count": 8,
   "metadata": {},
   "outputs": [
    {
     "name": "stdout",
     "output_type": "stream",
     "text": [
      "A\n",
      "b\n",
      "s\n"
     ]
    }
   ],
   "source": [
    "s = \"Absolute\"\n",
    "print(s[0])\n",
    "print(s[1])\n",
    "print(s[2])"
   ]
  },
  {
   "cell_type": "markdown",
   "metadata": {},
   "source": [
    "The position we're putting into brackets is called a string index. It may help you to think about it not as a position but rather as an offset from the start of the string. So the first character is not offset at all. The second has an index of 1, and so on.\n",
    "\n",
    "Python also allows us to count from the end of a string using negative numbers. Index -1 gives us the last character in the string, -2 being the second to last character, and so on."
   ]
  },
  {
   "cell_type": "code",
   "execution_count": 9,
   "metadata": {},
   "outputs": [
    {
     "name": "stdout",
     "output_type": "stream",
     "text": [
      "e\n",
      "t\n"
     ]
    }
   ],
   "source": [
    "print(s[-1])\n",
    "print(s[-2])"
   ]
  },
  {
   "cell_type": "markdown",
   "metadata": {},
   "source": [
    "### Slice (`[start:end:step]`)\n",
    "\n",
    "If we want more than one character out of our string, we might be able to use what Python calls a slice. \n",
    "\n",
    "Here's how we'd pull out all the letters from index 1 to index 3:"
   ]
  },
  {
   "cell_type": "code",
   "execution_count": 10,
   "metadata": {},
   "outputs": [
    {
     "data": {
      "text/plain": [
       "'bso'"
      ]
     },
     "execution_count": 10,
     "metadata": {},
     "output_type": "execute_result"
    }
   ],
   "source": [
    "s[1:4]"
   ]
  },
  {
   "cell_type": "markdown",
   "metadata": {},
   "source": [
    "Notice that we put in a start, then a colon, then an end.  However, the end we use is actually 4, not 3.  That's because Python understands this notation to mean all the characters from the start index up to but not including the end index.\n",
    "\n",
    "If we want to take everything except the first and the last character, we could use a -1 for our end."
   ]
  },
  {
   "cell_type": "code",
   "execution_count": 11,
   "metadata": {},
   "outputs": [
    {
     "data": {
      "text/plain": [
       "'bsolut'"
      ]
     },
     "execution_count": 11,
     "metadata": {},
     "output_type": "execute_result"
    }
   ],
   "source": [
    "s[1:-1]"
   ]
  },
  {
   "cell_type": "markdown",
   "metadata": {},
   "source": [
    "When writing a slice, we could also omit the end, in which case it defaults to the very end of the string."
   ]
  },
  {
   "cell_type": "code",
   "execution_count": 12,
   "metadata": {},
   "outputs": [
    {
     "data": {
      "text/plain": [
       "'bsolute'"
      ]
     },
     "execution_count": 12,
     "metadata": {},
     "output_type": "execute_result"
    }
   ],
   "source": [
    "s[1:]"
   ]
  },
  {
   "cell_type": "markdown",
   "metadata": {},
   "source": [
    "We could also omit the start, in which case it defaults to the start of the string."
   ]
  },
  {
   "cell_type": "code",
   "execution_count": 13,
   "metadata": {},
   "outputs": [
    {
     "data": {
      "text/plain": [
       "'Absolut'"
      ]
     },
     "execution_count": 13,
     "metadata": {},
     "output_type": "execute_result"
    }
   ],
   "source": [
    "s[:-1]"
   ]
  },
  {
   "cell_type": "markdown",
   "metadata": {},
   "source": [
    "Finally, we might not want every character in our slice; we might want every second character or every third character, for example. To do this, we can include an optional step size in our slice. This goes after another colon inside the square brackets. The following command would pull out every other character from our string, starting at index 1 and going up to (but not including) index 6."
   ]
  },
  {
   "cell_type": "code",
   "execution_count": 14,
   "metadata": {},
   "outputs": [
    {
     "data": {
      "text/plain": [
       "'bou'"
      ]
     },
     "execution_count": 14,
     "metadata": {},
     "output_type": "execute_result"
    }
   ],
   "source": [
    "s[1:6:2]"
   ]
  },
  {
   "cell_type": "markdown",
   "metadata": {},
   "source": [
    "You can even include a negative step size. For example, a step size of -1 could be used to reverse a string."
   ]
  },
  {
   "cell_type": "code",
   "execution_count": 15,
   "metadata": {},
   "outputs": [
    {
     "data": {
      "text/plain": [
       "'etulosbA'"
      ]
     },
     "execution_count": 15,
     "metadata": {},
     "output_type": "execute_result"
    }
   ],
   "source": [
    "s[::-1]"
   ]
  },
  {
   "cell_type": "markdown",
   "metadata": {
    "collapsed": true
   },
   "source": [
    "Here's a summary of all the ways to write a slice in Python.\n",
    "\n",
    "1. [:] extracts the entire sequence from start to end. \n",
    "2. [ start :] specifies from the start offset to the end. \n",
    "3. [: end ] specifies from the beginning to the end offset minus 1. \n",
    "4. [ start : end ] indicates from the start offset to the end offset minus 1. \n",
    "5. [ start : end : step ] extracts from the start offset to the end offset minus 1, skipping characters by step."
   ]
  },
  {
   "cell_type": "markdown",
   "metadata": {},
   "source": [
    "## Changing Case\n",
    "\n",
    "Strings also have convenient methods to help us change case."
   ]
  },
  {
   "cell_type": "code",
   "execution_count": 16,
   "metadata": {},
   "outputs": [
    {
     "data": {
      "text/plain": [
       "'ABSOLUTE'"
      ]
     },
     "execution_count": 16,
     "metadata": {},
     "output_type": "execute_result"
    }
   ],
   "source": [
    "s.upper()"
   ]
  },
  {
   "cell_type": "code",
   "execution_count": 17,
   "metadata": {},
   "outputs": [
    {
     "data": {
      "text/plain": [
       "'absolute'"
      ]
     },
     "execution_count": 17,
     "metadata": {},
     "output_type": "execute_result"
    }
   ],
   "source": [
    "s.lower()"
   ]
  },
  {
   "cell_type": "markdown",
   "metadata": {},
   "source": [
    "---"
   ]
  },
  {
   "cell_type": "markdown",
   "metadata": {},
   "source": [
    "# Pair Programming\n",
    "\n",
    "As a team of two, do the following:\n",
    "\n",
    "1. Think of a song with repetative lyrics and chrous (Type your answer in a markdown cell below)"
   ]
  },
  {
   "cell_type": "markdown",
   "metadata": {},
   "source": [
    "2. Write code to print the chrous/ lyrics to your favorite reptative song using strings and string slicing.\n",
    "\n",
    "    * Can you use variables for words/phrases that are repeated?\n",
    "    * Can you use string slicing in your answer?\n",
    "\n",
    "If you can't think of one, you can use one of my favorites - JBiebs:\n",
    "\n",
    ">Yeah, you got that yummy, yum\n",
    ">\n",
    ">That yummy, yum\n",
    ">\n",
    ">That yummy, yummy\n",
    ">\n",
    ">Yeah, you got that yummy, yum\n",
    ">\n",
    ">That yummy, yum\n",
    ">\n",
    ">That yummy, yummy"
   ]
  },
  {
   "cell_type": "code",
   "execution_count": null,
   "metadata": {},
   "outputs": [],
   "source": []
  }
 ],
 "metadata": {
  "kernelspec": {
   "display_name": "Python 3",
   "language": "python",
   "name": "python3"
  },
  "language_info": {
   "codemirror_mode": {
    "name": "ipython",
    "version": 3
   },
   "file_extension": ".py",
   "mimetype": "text/x-python",
   "name": "python",
   "nbconvert_exporter": "python",
   "pygments_lexer": "ipython3",
   "version": "3.6.4"
  }
 },
 "nbformat": 4,
 "nbformat_minor": 1
}
