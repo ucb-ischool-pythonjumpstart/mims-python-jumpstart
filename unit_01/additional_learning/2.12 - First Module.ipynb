{
 "cells": [
  {
   "cell_type": "markdown",
   "metadata": {},
   "source": [
    "## First Module"
   ]
  },
  {
   "cell_type": "markdown",
   "metadata": {},
   "source": [
    "Up to this point, we've been working with the Python interpreter in interactive mode, passing it one command at a time. Most of the time, however, we don't want our commands to disappear as soon as we type them in. We want to save our commands together as a program--one that we can improve, run whenever we want, and share with others.  \n",
    "\n",
    "A Python program (or script) is just a plain text file, which we can create using any text editor. Instead of the common .txt extension, Python programs are given the extension .py.  This doesn't change the contents of the file, but it serves as an alert that the contents should be passed to a Python interpreter.\n",
    "\n",
    "Here, we'll create a program to compute how much of a tip you should leave. Open a text editor and type the following commands in. Then save it using the name tip.py. Make sure to save it in your course working directory."
   ]
  },
  {
   "cell_type": "code",
   "execution_count": 5,
   "metadata": {
    "collapsed": false
   },
   "outputs": [
    {
     "name": "stdout",
     "output_type": "stream",
     "text": [
      "Enter the price of a meal:12\n",
      "A 16% tip would be  1.92\n",
      "The total including tip would be  13.92\n"
     ]
    }
   ],
   "source": [
    "price = input(\"Enter the price of a meal:\")\n",
    "\n",
    "tip = price * 0.16\n",
    "total = price + tip\n",
    "\n",
    "print(\"A 16% tip would be \", tip)\n",
    "print(\"The total including tip would be \", total)"
   ]
  },
  {
   "cell_type": "markdown",
   "metadata": {},
   "source": [
    "When you're done, go to your terminal window and use the cd command to navigate to your working directory.  Then type python3 tip.py.\n",
    "\n",
    "At this point, you'll probably get an error message.  Read it carefully and try to figure out what went wrong.  Then fix the Python file and try running it again."
   ]
  }
 ],
 "metadata": {
  "kernelspec": {
   "display_name": "Python 3",
   "language": "python",
   "name": "python3"
  },
  "language_info": {
   "codemirror_mode": {
    "name": "ipython",
    "version": 3
   },
   "file_extension": ".py",
   "mimetype": "text/x-python",
   "name": "python",
   "nbconvert_exporter": "python",
   "pygments_lexer": "ipython3",
   "version": "3.4.3"
  }
 },
 "nbformat": 4,
 "nbformat_minor": 0
}
