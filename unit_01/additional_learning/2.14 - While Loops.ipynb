{
 "cells": [
  {
   "cell_type": "markdown",
   "metadata": {},
   "source": [
    "## Loops\n",
    "\n",
    "A loop is a control structure that allows statements to be executed multiple times.  The uses for loops in data science are endless.  We may want to perform an operation on every entry in a data table.  We may want to process a user request, then prepare for the next request to come in.  We may want to keep guessing at model coefficents that fit a data set until the accuracy we get is good enough.  In fact, almost all interesting algorithms we will implement involve loops in some way. Python provides two main ways to create loops: the `while` statement and the `for` statement.  We'll examine while loops in this lesson and look at for loops later."
   ]
  },
  {
   "cell_type": "markdown",
   "metadata": {},
   "source": [
    "### While Statements\n",
    "\n",
    "The most general type of loop in Python is a `while` loop. This control structure repeatedly executes a block of code as long as a condition evaluates to True. Here is a simple example."
   ]
  },
  {
   "cell_type": "code",
   "execution_count": 3,
   "metadata": {
    "collapsed": false
   },
   "outputs": [
    {
     "name": "stdout",
     "output_type": "stream",
     "text": [
      "5\n",
      "4\n",
      "3\n",
      "2\n",
      "1\n",
      "Blast off!\n"
     ]
    }
   ],
   "source": [
    "countdown = 5\n",
    "while countdown > 0:\n",
    "    print(countdown)\n",
    "    countdown -= 1\n",
    "print(\"Blast off!\")"
   ]
  },
  {
   "cell_type": "markdown",
   "metadata": {},
   "source": [
    "When control reaches the `while` statement for the first time, it evaluates the expression after the `while` keyword. This is called the looping condition. If it evaluates to True, control then enters the indented `while` code suite and executes it. When this is done, control goes back up to the `while` statement and reevaluates the looping condition. As long as the condition evaluates to True, the process repeats. If, however, the condition evaluates to False, control skips the indented `while` suite and proceeds to the rest of the program.\n",
    "\n",
    "With the right looping condition, `while` loops can do some useful things. Here is an example in which we factor out all of the 2s from an integer."
   ]
  },
  {
   "cell_type": "code",
   "execution_count": 5,
   "metadata": {
    "collapsed": false
   },
   "outputs": [
    {
     "name": "stdout",
     "output_type": "stream",
     "text": [
      "enter an integer: 10\n",
      "Your number with all 2's factored out it 5.0\n"
     ]
    }
   ],
   "source": [
    "x = int(input(\"enter an integer: \"))\n",
    "while x % 2 == 0 and x > 0:\n",
    "    x = x / 2\n",
    "print(\"Your number with all 2's factored out it\", x)"
   ]
  },
  {
   "cell_type": "markdown",
   "metadata": {},
   "source": [
    "What is the purpose of the x > 0 in the condition?  Try to determine what could go wrong without it."
   ]
  },
  {
   "cell_type": "markdown",
   "metadata": {},
   "source": [
    "While loops can also be nested inside each other.  To understand the following example, first notice that there is an outer loop that counts down to 0 using the counter variable `row`.  Examine the inner loop and try to determine what this program will print."
   ]
  },
  {
   "cell_type": "code",
   "execution_count": 5,
   "metadata": {
    "collapsed": false
   },
   "outputs": [
    {
     "name": "stdout",
     "output_type": "stream",
     "text": [
      "enter an integer: 5\n",
      "0 1 2 3 4 5 \n",
      "0 1 2 3 4 \n",
      "0 1 2 3 \n",
      "0 1 2 \n",
      "0 1 \n",
      "0 \n"
     ]
    }
   ],
   "source": [
    "row = int(input(\"enter an integer: \"))\n",
    "\n",
    "while row >= 0:\n",
    "\n",
    "    # inner loop\n",
    "    j = 0\n",
    "    while j <= row:\n",
    "        print(j, end=\" \")\n",
    "        j += 1\n",
    "        \n",
    "    print(\"\")\n",
    "    row -= 1"
   ]
  },
  {
   "cell_type": "markdown",
   "metadata": {},
   "source": [
    "As a more interesting example, suppose that we want to write a program to see if an integer is a square number and display its square root if it is. Our strategy will be to start with a guess of zero and test to see if  squaring it gives the right answer. If not, we will add one to our guess and try squaring it again. We can stop looping when the square of our guess exceeds the number we are aiming for. This is shown in the following program."
   ]
  },
  {
   "cell_type": "code",
   "execution_count": 7,
   "metadata": {
    "collapsed": false
   },
   "outputs": [
    {
     "name": "stdout",
     "output_type": "stream",
     "text": [
      "Enter an integer: 13\n",
      "0 squared is 0 which is less than x. 13 to go\n",
      "1 squared is 1 which is less than x. 12 to go\n",
      "2 squared is 4 which is less than x. 9 to go\n",
      "3 squared is 9 which is less than x. 4 to go\n",
      "13  is not a perfect square.\n"
     ]
    }
   ],
   "source": [
    "x = int(input('Enter an integer: '))\n",
    "ans = 0\n",
    "while ans*ans < x:\n",
    "    print(ans, \"squared is\", ans*ans, \"which is less than x.\", x-ans*ans, \"to go\")\n",
    "    ans += 1\n",
    "    \n",
    "if ans*ans == x:\n",
    "    print(\"the square root of \",x,\" is \", ans)\n",
    "else:\n",
    "    print(x, \" is not a perfect square.\")"
   ]
  },
  {
   "cell_type": "markdown",
   "metadata": {},
   "source": [
    "As these examples highlight, we can create quite powerful and intricate algorithms with loops.  In fact, by combining loops and conditionals, we can implement virtually any algorithm known to computer scientists."
   ]
  }
 ],
 "metadata": {
  "kernelspec": {
   "display_name": "Python 3",
   "language": "python",
   "name": "python3"
  },
  "language_info": {
   "codemirror_mode": {
    "name": "ipython",
    "version": 3
   },
   "file_extension": ".py",
   "mimetype": "text/x-python",
   "name": "python",
   "nbconvert_exporter": "python",
   "pygments_lexer": "ipython3",
   "version": "3.4.3"
  }
 },
 "nbformat": 4,
 "nbformat_minor": 0
}
