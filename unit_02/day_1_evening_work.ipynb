{
 "cells": [
  {
   "cell_type": "code",
   "execution_count": 2,
   "metadata": {},
   "outputs": [],
   "source": [
    "from IPython.display import HTML"
   ]
  },
  {
   "cell_type": "markdown",
   "metadata": {},
   "source": [
    "# Evening Work #1 \n",
    "\n",
    "As a class, undertake the following very important pair programming activity. \n",
    "\n",
    "1. Give yourself a round of applause. \n",
    "  1. create a variable called `number_of_claps` that you initially set to 1. \n",
    "  2. create a varaible called `length_of_pause` that you initially set to 10. \n",
    "  3. Work to make a text string that you think best reads as a \"slow clap\" by incrementing the `number_of_claps` variable and decrementing the `length_of_pause` variable. "
   ]
  },
  {
   "cell_type": "code",
   "execution_count": 3,
   "metadata": {},
   "outputs": [
    {
     "data": {
      "text/html": [
       "<iframe width=\"560\" height=\"315\" src=\"https://www.youtube.com/embed/whytAReStUQ\" frameborder=\"0\" allow=\"accelerometer; autoplay; encrypted-media; gyroscope; picture-in-picture\" allowfullscreen></iframe>"
      ],
      "text/plain": [
       "<IPython.core.display.HTML object>"
      ]
     },
     "execution_count": 3,
     "metadata": {},
     "output_type": "execute_result"
    }
   ],
   "source": [
    "HTML('<iframe width=\"560\" height=\"315\" src=\"https://www.youtube.com/embed/whytAReStUQ\" frameborder=\"0\" allow=\"accelerometer; autoplay; encrypted-media; gyroscope; picture-in-picture\" allowfullscreen></iframe>')"
   ]
  },
  {
   "cell_type": "markdown",
   "metadata": {},
   "source": [
    "# Evening Work #2\n",
    "\n",
    "## Nick's Favorite Song\n",
    "\n",
    "2. Write code to print the chrous/ lyrics to your favorite reptative song using strings and string slicing.\n",
    "\n",
    "    * Can you use variables for words/phrases that are repeated?\n",
    "    * Can you use string slicing in your answer?\n",
    "\n",
    "If you can't think of one, you can use one of my favorites: JBiebs:\n",
    "\n",
    ">Yeah, you got that yummy, yum\n",
    ">\n",
    ">That yummy, yum\n",
    ">\n",
    ">That yummy, yummy\n",
    ">\n",
    ">Yeah, you got that yummy, yum\n",
    ">\n",
    ">That yummy, yum\n",
    ">\n",
    ">That yummy, yummy"
   ]
  },
  {
   "cell_type": "code",
   "execution_count": null,
   "metadata": {},
   "outputs": [],
   "source": []
  }
 ],
 "metadata": {
  "kernelspec": {
   "display_name": "Python 3",
   "language": "python",
   "name": "python3"
  },
  "language_info": {
   "codemirror_mode": {
    "name": "ipython",
    "version": 3
   },
   "file_extension": ".py",
   "mimetype": "text/x-python",
   "name": "python",
   "nbconvert_exporter": "python",
   "pygments_lexer": "ipython3",
   "version": "3.6.4"
  }
 },
 "nbformat": 4,
 "nbformat_minor": 2
}
