{
 "cells": [
  {
   "cell_type": "markdown",
   "metadata": {},
   "source": [
    "# Misc Quesitons from Thurs 7/27 Class"
   ]
  },
  {
   "cell_type": "markdown",
   "metadata": {},
   "source": [
    "---"
   ]
  },
  {
   "cell_type": "markdown",
   "metadata": {},
   "source": [
    "## How are strings compared and ordered?\n",
    "\n",
    "Strings (individual characters) are compared using their position in the [Unicode character position](https://en.wikipedia.org/wiki/List_of_Unicode_characters#Basic_Latin). This is a generalized alphabetical order called lexicographical order\n",
    "\n",
    "#### Practical considerations (how does this affect me)\n",
    "* We can compare strings to order them!\n",
    "* Read more about how to do it [here](https://stackabuse.com/comparing-strings-using-python/) and [here](https://stackoverflow.com/questions/4806911/string-comparison-technique-used-by-python) \n",
    "\n",
    "#### More theoretical (how it works and why Python does this)\n",
    "* [61A Lecutre](https://www.youtube.com/watch?v=kMxbPtD3ytc&feature=share) and [61A Materials]()"
   ]
  },
  {
   "cell_type": "markdown",
   "metadata": {},
   "source": [
    "#### Paul's version of code from lecture\n",
    "\n",
    "(I renamed the variables to make it easier to understand)"
   ]
  },
  {
   "cell_type": "code",
   "execution_count": 1,
   "metadata": {},
   "outputs": [
    {
     "name": "stdout",
     "output_type": "stream",
     "text": [
      "Char: l\n",
      "Char: o\n",
      "char is vowel!\n",
      "Char: c\n",
      "Char: a\n",
      "char is vowel!\n",
      "not in order\n"
     ]
    }
   ],
   "source": [
    "word = \"local\"\n",
    "last = 'a' #very first vowel in alphabet order\n",
    "for next_char in word:\n",
    "    print(\"Char:\", next_char)\n",
    "    if next_char in 'aeiou':\n",
    "        print(\"char is vowel!\")\n",
    "        #check to see if the order is right\n",
    "        #the next letter should always be > than the current letter to be in order!\n",
    "        if next_char < last:\n",
    "            print(\"not in order\")\n",
    "            break\n",
    "        last = next_char\n",
    "else:\n",
    "    print(\"in order\")"
   ]
  },
  {
   "cell_type": "code",
   "execution_count": 2,
   "metadata": {},
   "outputs": [
    {
     "data": {
      "text/plain": [
       "True"
      ]
     },
     "execution_count": 2,
     "metadata": {},
     "output_type": "execute_result"
    }
   ],
   "source": [
    "\"a\" < \"b\""
   ]
  },
  {
   "cell_type": "code",
   "execution_count": 3,
   "metadata": {},
   "outputs": [
    {
     "data": {
      "text/plain": [
       "False"
      ]
     },
     "execution_count": 3,
     "metadata": {},
     "output_type": "execute_result"
    }
   ],
   "source": [
    "\"b\" < \"a\""
   ]
  },
  {
   "cell_type": "code",
   "execution_count": 4,
   "metadata": {},
   "outputs": [
    {
     "data": {
      "text/plain": [
       "True"
      ]
     },
     "execution_count": 4,
     "metadata": {},
     "output_type": "execute_result"
    }
   ],
   "source": [
    "\"8\" < \"A\""
   ]
  },
  {
   "cell_type": "code",
   "execution_count": 5,
   "metadata": {},
   "outputs": [
    {
     "data": {
      "text/plain": [
       "True"
      ]
     },
     "execution_count": 5,
     "metadata": {},
     "output_type": "execute_result"
    }
   ],
   "source": [
    "\"@\" < \"A\""
   ]
  },
  {
   "cell_type": "code",
   "execution_count": 6,
   "metadata": {},
   "outputs": [
    {
     "data": {
      "text/plain": [
       "False"
      ]
     },
     "execution_count": 6,
     "metadata": {},
     "output_type": "execute_result"
    }
   ],
   "source": [
    "\".\" < \"!\""
   ]
  },
  {
   "cell_type": "code",
   "execution_count": 7,
   "metadata": {},
   "outputs": [
    {
     "data": {
      "text/plain": [
       "True"
      ]
     },
     "execution_count": 7,
     "metadata": {},
     "output_type": "execute_result"
    }
   ],
   "source": [
    "\"aab\" < \"aac\""
   ]
  },
  {
   "cell_type": "markdown",
   "metadata": {},
   "source": [
    "---"
   ]
  },
  {
   "cell_type": "markdown",
   "metadata": {},
   "source": [
    "## Why do we care about Mutability?"
   ]
  },
  {
   "cell_type": "markdown",
   "metadata": {},
   "source": [
    "<Image of Nick's Toy vs. Your Toy>"
   ]
  },
  {
   "cell_type": "markdown",
   "metadata": {},
   "source": [
    "### Theoretical / Things we'll get to later\n",
    "* \"Sameness\": Value vs. Identity\n",
    "* OOP: Value Objects\n",
    "    * When equality is established based on its value, but not identity. Two dollar bills are considered value objects - their value is equal even though there are different dollar bills.\n",
    "\n",
    "### Practical / Things we care about now\n",
    "* Assigning objects to variables (do we have to \"save\" our change by assigning it to a variable)\n",
    "* Changing variables (if we change part of a mutiple object, where else will we see this change?)\n",
    "\n",
    "Here’s another discussion of immutability: \n",
    "* [61A Lecture](https://www.youtube.com/watch?v=Q-CewobDFZM&feature=share) and [slides/ studyguides](https://cs61a.org)\n",
    "* https://dev.to/himankbhalla/why-should-i-care-about-immutables-in-python-4ofn\n",
    "* https://stackoverflow.com/questions/34385243/why-is-immutability-so-important-or-needed-in-javascript\n",
    "* https://web.mit.edu/6.005/www/fa16/classes/09-immutability/"
   ]
  },
  {
   "cell_type": "markdown",
   "metadata": {},
   "source": [
    "#### What's \"risky\" about mutation?\n",
    "\n",
    "When we define this function, we instantiate s in a default argument as s= []. But each time we call the function, we are appending a number to the list. \"S\" is not re-instantiated with each function call - it's a mutable object that's continuously changing (updating).\n",
    "\n",
    "Example from CS61a Lecture 14 [Video 5](https://www.youtube.com/playlist?list=PLx38hZJ5RLZdduunxLp6Eiw9qIXSZknFq): Mutability"
   ]
  },
  {
   "cell_type": "code",
   "execution_count": 8,
   "metadata": {},
   "outputs": [],
   "source": [
    "# What's \"risky\" about mutation?\n",
    "\n",
    "def f(s=[]):\n",
    "    s.append(5)\n",
    "    return len(s)"
   ]
  },
  {
   "cell_type": "code",
   "execution_count": 9,
   "metadata": {},
   "outputs": [
    {
     "data": {
      "text/plain": [
       "1"
      ]
     },
     "execution_count": 9,
     "metadata": {},
     "output_type": "execute_result"
    }
   ],
   "source": [
    "f()"
   ]
  },
  {
   "cell_type": "code",
   "execution_count": 10,
   "metadata": {},
   "outputs": [
    {
     "data": {
      "text/plain": [
       "2"
      ]
     },
     "execution_count": 10,
     "metadata": {},
     "output_type": "execute_result"
    }
   ],
   "source": [
    "f()"
   ]
  },
  {
   "cell_type": "code",
   "execution_count": 11,
   "metadata": {},
   "outputs": [
    {
     "data": {
      "text/plain": [
       "3"
      ]
     },
     "execution_count": 11,
     "metadata": {},
     "output_type": "execute_result"
    }
   ],
   "source": [
    "f()"
   ]
  }
 ],
 "metadata": {
  "kernelspec": {
   "display_name": "Python 3",
   "language": "python",
   "name": "python3"
  },
  "language_info": {
   "codemirror_mode": {
    "name": "ipython",
    "version": 3
   },
   "file_extension": ".py",
   "mimetype": "text/x-python",
   "name": "python",
   "nbconvert_exporter": "python",
   "pygments_lexer": "ipython3",
   "version": "3.7.6"
  }
 },
 "nbformat": 4,
 "nbformat_minor": 4
}
