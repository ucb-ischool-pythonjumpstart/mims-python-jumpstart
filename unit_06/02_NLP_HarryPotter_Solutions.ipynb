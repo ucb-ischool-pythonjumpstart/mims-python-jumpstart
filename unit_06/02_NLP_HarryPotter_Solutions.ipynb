{
 "cells": [
  {
   "cell_type": "markdown",
   "metadata": {},
   "source": [
    "# Practice with Dictionaries & Counters\n",
    "\n",
    "NLP Challenges to introduce Counters and practice more with dictionaries and lists."
   ]
  },
  {
   "cell_type": "markdown",
   "metadata": {},
   "source": [
    "## Counters"
   ]
  },
  {
   "cell_type": "markdown",
   "metadata": {},
   "source": [
    "Counters are a subclass aka subtype of `Dictionaries`. They're useful for quickly counting / tallying things up.\n",
    "\n",
    "\n",
    "Key difference from dictionaries\n",
    "* return 0 count for missing items instead of returning a key error"
   ]
  },
  {
   "cell_type": "code",
   "execution_count": 1,
   "metadata": {},
   "outputs": [],
   "source": [
    "from collections import Counter\n",
    "# import the counter class from collections module"
   ]
  },
  {
   "cell_type": "code",
   "execution_count": 2,
   "metadata": {},
   "outputs": [
    {
     "data": {
      "text/plain": [
       "Counter({'eggs': 1, 'ham': 1})"
      ]
     },
     "execution_count": 2,
     "metadata": {},
     "output_type": "execute_result"
    }
   ],
   "source": [
    "c = Counter(['eggs', 'ham'])\n",
    "c"
   ]
  },
  {
   "cell_type": "code",
   "execution_count": 3,
   "metadata": {},
   "outputs": [
    {
     "data": {
      "text/plain": [
       "0"
      ]
     },
     "execution_count": 3,
     "metadata": {},
     "output_type": "execute_result"
    }
   ],
   "source": [
    "# The key \"green_eggs\" does not exist in our counter\n",
    "c['green_eggs']"
   ]
  },
  {
   "cell_type": "markdown",
   "metadata": {},
   "source": [
    "Similar to dictionaries, you can retrieve elements with the key"
   ]
  },
  {
   "cell_type": "code",
   "execution_count": 4,
   "metadata": {},
   "outputs": [
    {
     "data": {
      "text/plain": [
       "1"
      ]
     },
     "execution_count": 4,
     "metadata": {},
     "output_type": "execute_result"
    }
   ],
   "source": [
    "c['eggs']"
   ]
  },
  {
   "cell_type": "markdown",
   "metadata": {},
   "source": [
    "We can iterate values"
   ]
  },
  {
   "cell_type": "code",
   "execution_count": 5,
   "metadata": {},
   "outputs": [],
   "source": [
    "c['eggs'] += 1"
   ]
  },
  {
   "cell_type": "code",
   "execution_count": 6,
   "metadata": {},
   "outputs": [
    {
     "name": "stdout",
     "output_type": "stream",
     "text": [
      "2\n"
     ]
    }
   ],
   "source": [
    "print(c['eggs'])"
   ]
  },
  {
   "cell_type": "markdown",
   "metadata": {},
   "source": [
    "Usefulness of having a default key of zero"
   ]
  },
  {
   "cell_type": "code",
   "execution_count": 7,
   "metadata": {},
   "outputs": [],
   "source": [
    "color_counts = Counter()\n",
    "\n",
    "for word in ['red', 'blue', 'red', 'green', 'blue', 'blue']:\n",
    "    color_counts[word] += 1"
   ]
  },
  {
   "cell_type": "code",
   "execution_count": 8,
   "metadata": {},
   "outputs": [
    {
     "data": {
      "text/plain": [
       "Counter({'red': 2, 'blue': 3, 'green': 1})"
      ]
     },
     "execution_count": 8,
     "metadata": {},
     "output_type": "execute_result"
    }
   ],
   "source": [
    "color_counts"
   ]
  },
  {
   "cell_type": "markdown",
   "metadata": {},
   "source": [
    "# NLP Example\n",
    "\n",
    "Practice with Lists, Dictionaries"
   ]
  },
  {
   "cell_type": "code",
   "execution_count": 9,
   "metadata": {},
   "outputs": [],
   "source": [
    "book1_url = \"https://raw.githubusercontent.com/khushmeeet/potter-nlp/master/final_data/book1.txt\""
   ]
  },
  {
   "cell_type": "code",
   "execution_count": 10,
   "metadata": {},
   "outputs": [],
   "source": [
    "import requests\n",
    "\n",
    "response = requests.get(book1_url)\n",
    "data = response.text"
   ]
  },
  {
   "cell_type": "markdown",
   "metadata": {},
   "source": [
    "### 1.Inspect the data\n",
    "\n",
    "* What type of object is the `data` variable?\n",
    "* What's the length of the `data` variable?\n",
    "* How many words and characters?\n",
    "* What does the text look like? (can you look at part / subset of the data?)"
   ]
  },
  {
   "cell_type": "code",
   "execution_count": 11,
   "metadata": {},
   "outputs": [
    {
     "name": "stdout",
     "output_type": "stream",
     "text": [
      "<class 'str'>\n",
      "430,856 characters\n",
      "79,020, words\n",
      "\n",
      "Sample Text: \n",
      "\n",
      " the boy who lived mr. and mrs. dursley of number four privet drive were proud to say that they were perfectly normal thank you very much. they were the last people you’d expect to be involved in anything strange or mysterious because they just didn’t hold with such nonsense. mr. dursley was the director of a firm called grunnings which made drills. he was a big beefy man with hardly any neck although he did have a very large mustache. mrs. dursley was thin and blonde and had nearly twice the usual amount of neck which came in very useful as she spent so much of her time craning over garden fences spying on the neighbors. the dursley s had a small son called dudley and in their opinion there was no finer boy anywhere. the dursleys had everything they wanted but they also had a secret and their greatest fear was that somebody would discover it. they didn’t think they could bear it if anyone found out about the potters. mrs. potter was mrs. dursley’s sister but they hadn’t met for several\n"
     ]
    }
   ],
   "source": [
    "print(type(data))\n",
    "print(f\"{len(data):,} characters\")\n",
    "print(f\"{len(data.split()):,}, words\")\n",
    "print(\"\\nSample Text: \\n\\n\",data[:1000])"
   ]
  },
  {
   "cell_type": "markdown",
   "metadata": {},
   "source": [
    "To count word occurances, we might want to split text from a single huge string to individual words or tokens. We could split using string split"
   ]
  },
  {
   "cell_type": "code",
   "execution_count": 12,
   "metadata": {},
   "outputs": [
    {
     "data": {
      "text/plain": [
       "['',\n",
       " 'years',\n",
       " 'in',\n",
       " 'fact',\n",
       " 'mrs.',\n",
       " 'dursley',\n",
       " 'pretended',\n",
       " 'she',\n",
       " 'didn’t',\n",
       " 'have',\n",
       " 'a',\n",
       " 'sister',\n",
       " 'because',\n",
       " 'her',\n",
       " 'sister',\n",
       " 'and',\n",
       " 'her',\n",
       " 'good-for-n']"
      ]
     },
     "execution_count": 12,
     "metadata": {},
     "output_type": "execute_result"
    }
   ],
   "source": [
    "# split the first 50 characters into tokens by their space character\n",
    "data[1000:1100].split(\" \")"
   ]
  },
  {
   "cell_type": "code",
   "execution_count": 13,
   "metadata": {},
   "outputs": [
    {
     "data": {
      "text/plain": [
       "' a screaming dudley into his high chair. none of them noticed a large tawny owl flutter past the window. at half past eight mr. dursley picked up his briefcase pecked mrs. dursley on the cheek and tried to kiss dudley good-bye but missed because dudley was now having a tantrum and throwing his cereal at the walls. “little tyke,” chortled'"
      ]
     },
     "execution_count": 13,
     "metadata": {},
     "output_type": "execute_result"
    }
   ],
   "source": [
    "data[1801:2140]"
   ]
  },
  {
   "cell_type": "markdown",
   "metadata": {},
   "source": [
    "### 3. Correct some mistakes\n",
    "\n",
    "We realize that our naive tokenization (splitting our full text string into individual words made some errors."
   ]
  },
  {
   "cell_type": "code",
   "execution_count": 14,
   "metadata": {},
   "outputs": [],
   "source": [
    "# Dictionary mapping a substring to its replacement\n",
    "corrections = {'mr. and mrs. dursley': 'the_dursleys',\n",
    "               'mr. dursley': 'mr_dursley',\n",
    "               'mrs. dursley': 'mrs_dursley'\n",
    "              }\n",
    "#['mr. dursley', 'mrs. dursley', 'the dursleys']\n",
    "for k, v in corrections.items():\n",
    "    data = data.replace(k, v)"
   ]
  },
  {
   "cell_type": "code",
   "execution_count": 15,
   "metadata": {},
   "outputs": [
    {
     "data": {
      "text/plain": [
       "['the_dursleys', 'mr_dursley', 'mrs_dursley']"
      ]
     },
     "execution_count": 15,
     "metadata": {},
     "output_type": "execute_result"
    }
   ],
   "source": [
    "list(corrections.values())"
   ]
  },
  {
   "cell_type": "markdown",
   "metadata": {},
   "source": [
    "### 4. Split data into tokens\n",
    "\n",
    "Make a list of strings, where each element of the list contains a word in the `data` variable. To simplify things we can split words on space character only."
   ]
  },
  {
   "cell_type": "code",
   "execution_count": 16,
   "metadata": {},
   "outputs": [
    {
     "name": "stdout",
     "output_type": "stream",
     "text": [
      "78,980\n"
     ]
    }
   ],
   "source": [
    "data = data.split(\" \")\n",
    "print(f\"{len(data):,}\")"
   ]
  },
  {
   "cell_type": "markdown",
   "metadata": {},
   "source": [
    "### 4. How many times does each characters name appear?"
   ]
  },
  {
   "cell_type": "code",
   "execution_count": 17,
   "metadata": {},
   "outputs": [],
   "source": [
    "hp_chars = list(corrections.values()) + ['harry', 'hagrid', 'dumbledore', 'hermione','ron']"
   ]
  },
  {
   "cell_type": "code",
   "execution_count": 18,
   "metadata": {},
   "outputs": [],
   "source": [
    "char_counts = Counter()\n",
    "\n",
    "for tok in data:\n",
    "    if tok in hp_chars:\n",
    "        char_counts[tok] += 1"
   ]
  },
  {
   "cell_type": "code",
   "execution_count": 19,
   "metadata": {},
   "outputs": [
    {
     "name": "stdout",
     "output_type": "stream",
     "text": [
      "Counter({'harry': 1046, 'ron': 325, 'hagrid': 277, 'hermione': 207, 'dumbledore': 107, 'mr_dursley': 29, 'mrs_dursley': 13, 'the_dursleys': 2})\n"
     ]
    }
   ],
   "source": [
    "print(char_counts)"
   ]
  },
  {
   "cell_type": "markdown",
   "metadata": {},
   "source": [
    "### 5. Plot your results\n",
    "\n",
    "Read the documentation for Seaborn barplot to learn how to make a chart: https://seaborn.pydata.org/generated/seaborn.barplot.html\n",
    "\n",
    "There's some helper code to convert our dictionary into a new object type a Pandas `DataFrame` to match the Seaborn documentation and examples."
   ]
  },
  {
   "cell_type": "code",
   "execution_count": 20,
   "metadata": {},
   "outputs": [],
   "source": [
    "import seaborn as sns\n",
    "import pandas as pd"
   ]
  },
  {
   "cell_type": "code",
   "execution_count": 21,
   "metadata": {},
   "outputs": [],
   "source": [
    "# we're going to make a DataFrame object from our dictionary\n",
    "data = pd.DataFrame(char_counts.values(), char_counts.keys())\n",
    "# I'm renaming the columns and resetting the index to match the Seaborn tutorial\n",
    "data = data.reset_index().rename(columns={'index': 'character', 0:'num_occurances'})"
   ]
  },
  {
   "cell_type": "markdown",
   "metadata": {},
   "source": [
    "Now we have a DataFrame with one row for each character, and two columns `character` and `num_occurances`"
   ]
  },
  {
   "cell_type": "code",
   "execution_count": 22,
   "metadata": {},
   "outputs": [
    {
     "data": {
      "text/html": [
       "<div>\n",
       "<style scoped>\n",
       "    .dataframe tbody tr th:only-of-type {\n",
       "        vertical-align: middle;\n",
       "    }\n",
       "\n",
       "    .dataframe tbody tr th {\n",
       "        vertical-align: top;\n",
       "    }\n",
       "\n",
       "    .dataframe thead th {\n",
       "        text-align: right;\n",
       "    }\n",
       "</style>\n",
       "<table border=\"1\" class=\"dataframe\">\n",
       "  <thead>\n",
       "    <tr style=\"text-align: right;\">\n",
       "      <th></th>\n",
       "      <th>character</th>\n",
       "      <th>num_occurances</th>\n",
       "    </tr>\n",
       "  </thead>\n",
       "  <tbody>\n",
       "    <tr>\n",
       "      <th>0</th>\n",
       "      <td>the_dursleys</td>\n",
       "      <td>2</td>\n",
       "    </tr>\n",
       "    <tr>\n",
       "      <th>1</th>\n",
       "      <td>mr_dursley</td>\n",
       "      <td>29</td>\n",
       "    </tr>\n",
       "    <tr>\n",
       "      <th>2</th>\n",
       "      <td>mrs_dursley</td>\n",
       "      <td>13</td>\n",
       "    </tr>\n",
       "    <tr>\n",
       "      <th>3</th>\n",
       "      <td>harry</td>\n",
       "      <td>1046</td>\n",
       "    </tr>\n",
       "    <tr>\n",
       "      <th>4</th>\n",
       "      <td>dumbledore</td>\n",
       "      <td>107</td>\n",
       "    </tr>\n",
       "    <tr>\n",
       "      <th>5</th>\n",
       "      <td>hagrid</td>\n",
       "      <td>277</td>\n",
       "    </tr>\n",
       "    <tr>\n",
       "      <th>6</th>\n",
       "      <td>ron</td>\n",
       "      <td>325</td>\n",
       "    </tr>\n",
       "    <tr>\n",
       "      <th>7</th>\n",
       "      <td>hermione</td>\n",
       "      <td>207</td>\n",
       "    </tr>\n",
       "  </tbody>\n",
       "</table>\n",
       "</div>"
      ],
      "text/plain": [
       "      character  num_occurances\n",
       "0  the_dursleys               2\n",
       "1    mr_dursley              29\n",
       "2   mrs_dursley              13\n",
       "3         harry            1046\n",
       "4    dumbledore             107\n",
       "5        hagrid             277\n",
       "6           ron             325\n",
       "7      hermione             207"
      ]
     },
     "execution_count": 22,
     "metadata": {},
     "output_type": "execute_result"
    }
   ],
   "source": [
    "data"
   ]
  },
  {
   "cell_type": "code",
   "execution_count": 23,
   "metadata": {},
   "outputs": [],
   "source": [
    "# We can remove harry from the dataset if we want\n",
    "# df = df[df['character'] != 'harry']"
   ]
  },
  {
   "cell_type": "code",
   "execution_count": 24,
   "metadata": {},
   "outputs": [
    {
     "data": {
      "image/png": "[encoded data removed]",
      "text/plain": [
       "<Figure size 432x288 with 1 Axes>"
      ]
     },
     "metadata": {
      "needs_background": "light"
     },
     "output_type": "display_data"
    }
   ],
   "source": [
    "ax = sns.barplot(x=\"character\", y=\"num_occurances\", data=data)"
   ]
  }
 ],
 "metadata": {
  "kernelspec": {
   "display_name": "Python 3",
   "language": "python",
   "name": "python3"
  },
  "language_info": {
   "codemirror_mode": {
    "name": "ipython",
    "version": 3
   },
   "file_extension": ".py",
   "mimetype": "text/x-python",
   "name": "python",
   "nbconvert_exporter": "python",
   "pygments_lexer": "ipython3",
   "version": "3.7.6"
  }
 },
 "nbformat": 4,
 "nbformat_minor": 4
}
