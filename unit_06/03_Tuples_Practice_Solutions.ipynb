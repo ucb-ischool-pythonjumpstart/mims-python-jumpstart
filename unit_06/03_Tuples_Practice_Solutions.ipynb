{
 "cells": [
  {
   "cell_type": "markdown",
   "metadata": {},
   "source": [
    "## Tuples practice\n",
    "\n",
    "From R Tidy Tuesday: https://github.com/rfordatascience/tidytuesday"
   ]
  },
  {
   "cell_type": "code",
   "execution_count": 1,
   "metadata": {},
   "outputs": [],
   "source": [
    "import csv"
   ]
  },
  {
   "cell_type": "code",
   "execution_count": 2,
   "metadata": {},
   "outputs": [],
   "source": [
    "filepath = \"passwords.csv\"\n",
    "\n",
    "with open(filepath) as f:\n",
    "    data=[tuple(line) for line in csv.reader(f)]"
   ]
  },
  {
   "cell_type": "code",
   "execution_count": null,
   "metadata": {},
   "outputs": [],
   "source": []
  },
  {
   "cell_type": "markdown",
   "metadata": {},
   "source": [
    "The first item in our list \"data\" is the column names from our csv"
   ]
  },
  {
   "cell_type": "code",
   "execution_count": 3,
   "metadata": {},
   "outputs": [
    {
     "name": "stdout",
     "output_type": "stream",
     "text": [
      "<class 'tuple'>\n",
      "9\n",
      "('rank', 'password', 'category', 'value', 'time_unit', 'offline_crack_sec', 'rank_alt', 'strength', 'font_size')\n"
     ]
    }
   ],
   "source": [
    "columns = data[0] # tuple with column names\n",
    "print(type(columns))\n",
    "print(len(columns))\n",
    "print(columns)"
   ]
  },
  {
   "cell_type": "code",
   "execution_count": 4,
   "metadata": {},
   "outputs": [],
   "source": [
    "# delete the first record with column names for ease of working with the data\n",
    "del data[0] "
   ]
  },
  {
   "cell_type": "code",
   "execution_count": 5,
   "metadata": {},
   "outputs": [
    {
     "data": {
      "text/plain": [
       "('1', 'password', 'password-related', '6.91', 'years', '2.17', '1', '8', '11')"
      ]
     },
     "execution_count": 5,
     "metadata": {},
     "output_type": "execute_result"
    }
   ],
   "source": [
    "data[0] # first row of the dataset"
   ]
  },
  {
   "cell_type": "markdown",
   "metadata": {},
   "source": [
    "### 1. Inspect the data\n",
    "Examine the fields and what things mean, similar to harry potter dataset"
   ]
  },
  {
   "cell_type": "markdown",
   "metadata": {},
   "source": [
    "Details on the dataset are here: https://github.com/rfordatascience/tidytuesday/blob/master/data/2020/2020-01-14/readme.md"
   ]
  },
  {
   "cell_type": "code",
   "execution_count": 6,
   "metadata": {},
   "outputs": [
    {
     "name": "stdout",
     "output_type": "stream",
     "text": [
      "507 rows\n",
      "9 columns\n",
      "\n",
      "Example row of the dataset: \n",
      "\n",
      " ('1', 'password', 'password-related', '6.91', 'years', '2.17', '1', '8', '11')\n"
     ]
    }
   ],
   "source": [
    "print(len(data), \"rows\")\n",
    "print(len(data[0]), \"columns\")\n",
    "\n",
    "print(\"\\nExample row of the dataset: \\n\\n\", data[0])"
   ]
  },
  {
   "cell_type": "code",
   "execution_count": 7,
   "metadata": {},
   "outputs": [
    {
     "name": "stdout",
     "output_type": "stream",
     "text": [
      "the most common password is:  password\n",
      "the passwords are categorized, for example the password 'password' is the category: password-related\n",
      "passwords have a value field, which is a numerical time to crack such as: 6.91, as well as a time unit such as: years \n"
     ]
    }
   ],
   "source": [
    "print(\"the most common password is: \", data[0][1])\n",
    "print(\"the passwords are categorized, for example the password 'password' is the category:\", data[0][2])\n",
    "print(f\"\"\"passwords have a value field, which is a numerical time to crack such as: {data[0][3]}, as well as a time unit such as: {data[0][4]} \"\"\")"
   ]
  },
  {
   "cell_type": "markdown",
   "metadata": {},
   "source": [
    "### 2. What percent of passwords have a number in them?"
   ]
  },
  {
   "cell_type": "markdown",
   "metadata": {},
   "source": [
    "Let's test a single example before we iterate through all the data. Here we have a test password with two numbers in it. I added lots of print statements to explain the thought process."
   ]
  },
  {
   "cell_type": "markdown",
   "metadata": {},
   "source": [
    "### (Version 0, testing)\n",
    "\n",
    "Testing a small example we know the answer to"
   ]
  },
  {
   "cell_type": "code",
   "execution_count": 8,
   "metadata": {},
   "outputs": [
    {
     "name": "stdout",
     "output_type": "stream",
     "text": [
      "nums is variable of type <class 'str'> of length 10\n",
      "num: 1\n",
      "    the number 1 is in the password!\n",
      "num: 2\n",
      "num: 3\n",
      "num: 4\n",
      "num: 5\n",
      "    the number 5 is in the password!\n",
      "num: 6\n",
      "num: 7\n",
      "num: 8\n",
      "num: 9\n",
      "num: 0\n",
      "\n",
      "the for loop has finished\n",
      "the password we iterated through 5password1 contained 2 digits\n"
     ]
    }
   ],
   "source": [
    "# Create a test string password to see if our logic works\n",
    "password = \"5password1\"\n",
    "\n",
    "nums = \"1234567890\" # string type variable with all possible numbers/ digits\n",
    "print(f\"nums is variable of type {type(nums)} of length {len(nums)}\")\n",
    "\n",
    "num_digits = 0 # count how many digits are in this single password\n",
    "for num in nums: # Iterate over all the string characters (digits) in the nums variable for this password\n",
    "    print(\"num:\",num)\n",
    "    if num in password:\n",
    "        num_digits += 1\n",
    "        print(f\"    the number {num} is in the password!\")\n",
    "\n",
    "print(\"\")\n",
    "print(\"the for loop has finished\")\n",
    "print(f\"the password we iterated through {password} contained {num_digits} digits\")"
   ]
  },
  {
   "cell_type": "markdown",
   "metadata": {},
   "source": [
    "### Version 1 (Lots of looping)\n",
    "\n",
    "Use the same logic/ looping we did in our test example, but this time on all passwords instead of just one."
   ]
  },
  {
   "cell_type": "code",
   "execution_count": 9,
   "metadata": {},
   "outputs": [],
   "source": [
    "nums = \"1234567890\" # string type variable with all possible numbers/ digits\n",
    "\n",
    "digits_in_passwords = [] # list with number of digits present for each password\n",
    "\n",
    "for row in data:\n",
    "    password = row[1]\n",
    "    num_digits = 0 # count how many digits are in this single password\n",
    "    for num in nums: # Iterate over all the string characters (digits) in the nums variable for this password\n",
    "        if num in password:\n",
    "            num_digits += 1 # iterate counter if there's a digit\n",
    "    digits_in_passwords.append(num_digits)"
   ]
  },
  {
   "cell_type": "code",
   "execution_count": 10,
   "metadata": {},
   "outputs": [
    {
     "name": "stdout",
     "output_type": "stream",
     "text": [
      "507 items in the list\n",
      "True\n"
     ]
    }
   ],
   "source": [
    "# our variable digits_in_passwords is the length of our data\n",
    "print(len(digits_in_passwords), \"items in the list\")\n",
    "print(len(digits_in_passwords) == len(data))"
   ]
  },
  {
   "cell_type": "code",
   "execution_count": 11,
   "metadata": {},
   "outputs": [
    {
     "name": "stdout",
     "output_type": "stream",
     "text": [
      "Average of 0.2879684418145957 digits per password\n",
      "146 passwords with digits, 0.2879684418145957 percent of passwords in dataset\n"
     ]
    }
   ],
   "source": [
    "avg_digits = sum(digits_in_passwords) / len(digits_in_passwords)\n",
    "pass_with_digits = [p for p in digits_in_passwords if p > 0]\n",
    "perc_passwords_with_digits = sum(pass_with_digits) / len(digits_in_passwords)\n",
    "print(f\"Average of {avg_digits} digits per password\")\n",
    "print(f\"{sum(pass_with_digits)} passwords with digits, {perc_passwords_with_digits} percent of passwords in dataset\")"
   ]
  },
  {
   "cell_type": "markdown",
   "metadata": {},
   "source": [
    "### Version 2 (complicated)"
   ]
  },
  {
   "cell_type": "code",
   "execution_count": 12,
   "metadata": {},
   "outputs": [
    {
     "name": "stdout",
     "output_type": "stream",
     "text": [
      "[False, False, False, False, False, False, False, False, False, False]\n"
     ]
    },
    {
     "data": {
      "text/plain": [
       "False"
      ]
     },
     "execution_count": 12,
     "metadata": {},
     "output_type": "execute_result"
    }
   ],
   "source": [
    "numerical_digits = \"1234567890\"\n",
    "password_example = \"1password5\"\n",
    "\n",
    "# we could use a dictionary comprehension to get a list of True/ False boolean values for if every character in the password contained a digit or not\n",
    "character_digit_booleans = [substring in password for substring in numerical_digits]\n",
    "print(character_digit_booleans)\n",
    "# then use the any operater to see if any value is True\n",
    "any([substring in password for substring in numerical_digits])"
   ]
  },
  {
   "cell_type": "code",
   "execution_count": 13,
   "metadata": {},
   "outputs": [],
   "source": [
    "numerical_digits = \"1234567890\" # define numerical digits we're searching for\n",
    "\n",
    "count_passwords_with_num = 0\n",
    "\n",
    "for row in data: # loop through all rows in the dataset\n",
    "    \n",
    "    # make a variable for the second element of the tuple which is the string text of the password\n",
    "    password = row[1]\n",
    "    # check if each digit in string is numerical digit or not (list of Boolean values length of password)\n",
    "    password_digits = [substring_char in password for substring_char in numerical_digits]\n",
    "    # check if any values are true or not\n",
    "    if any(password_digits):\n",
    "        # if a password has a number add it to the count\n",
    "        count_passwords_with_num += 1\n",
    "    "
   ]
  },
  {
   "cell_type": "code",
   "execution_count": 14,
   "metadata": {},
   "outputs": [
    {
     "name": "stdout",
     "output_type": "stream",
     "text": [
      "There are 54 passwords with numbers\n",
      "There are 10.65% of passwords in dataset have numbers\n"
     ]
    }
   ],
   "source": [
    "perc_passwords_with_digits = count_passwords_with_num / len(data)\n",
    "\n",
    "print(f\"There are {count_passwords_with_num} passwords with numbers\")\n",
    "print(f\"There are {round(perc_passwords_with_digits*100, 2)}% of passwords in dataset have numbers\")"
   ]
  },
  {
   "cell_type": "markdown",
   "metadata": {},
   "source": [
    "### 3. What percent of passwords have a special character in them? \n"
   ]
  },
  {
   "cell_type": "markdown",
   "metadata": {},
   "source": [
    "Optionally, you may find the `String` module helpful. Note: this is different from the operations we performed on strings in the past. The documentation helpful particularly reading about the `ASCII` methods. Read more in the documentation here: https://docs.python.org/3/library/string.html#string.punctuation"
   ]
  },
  {
   "cell_type": "code",
   "execution_count": 15,
   "metadata": {},
   "outputs": [
    {
     "data": {
      "text/plain": [
       "'0123456789'"
      ]
     },
     "execution_count": 15,
     "metadata": {},
     "output_type": "execute_result"
    }
   ],
   "source": [
    "import string # import the string package\n",
    "string.digits # call the digits method from the string module "
   ]
  },
  {
   "cell_type": "code",
   "execution_count": null,
   "metadata": {},
   "outputs": [],
   "source": []
  },
  {
   "cell_type": "code",
   "execution_count": 16,
   "metadata": {},
   "outputs": [],
   "source": [
    "punc = string.punctuation\n",
    "\n",
    "# list of passwords only\n",
    "passwords = [row[1] for row in data]\n",
    "\n",
    "# create an empty list\n",
    "special_chars_per_password = []\n",
    "\n",
    "for password in passwords:\n",
    "    num_special_chars = 0\n",
    "    password_special_chars = [substring_char in password for substring_char in punc]\n",
    "    special_chars_per_password.append(sum(password_special_chars))"
   ]
  },
  {
   "cell_type": "code",
   "execution_count": 17,
   "metadata": {},
   "outputs": [
    {
     "name": "stdout",
     "output_type": "stream",
     "text": [
      "There are 0.0 passwords with numbers\n",
      "There are 0.0% of passwords in dataset have numbers\n"
     ]
    }
   ],
   "source": [
    "perc_passwords_with_special_chars = sum(special_chars_per_password) / len(data)\n",
    "count_passwords_with_special_chars = [p for p in special_chars_per_password if p > 0]\n",
    "\n",
    "print(f\"There are {perc_passwords_with_special_chars} passwords with numbers\")\n",
    "print(f\"There are {round(perc_passwords_with_special_chars*100, 2)}% of passwords in dataset have numbers\")"
   ]
  },
  {
   "cell_type": "code",
   "execution_count": 18,
   "metadata": {},
   "outputs": [],
   "source": [
    "# Problem? Nope. No passwords have any special characters!! \n",
    "\n",
    "# Oops... Nick didn't look at the data when creating this question, and made bad assumptions about the dataset "
   ]
  },
  {
   "cell_type": "markdown",
   "metadata": {},
   "source": [
    "### 4. Can you add an attribute to the tuple for number of special characters in the password?"
   ]
  },
  {
   "cell_type": "code",
   "execution_count": 19,
   "metadata": {},
   "outputs": [],
   "source": [
    "# since we can't add elements to the tuple (they're imutable and can't be changed!)\n",
    "\n",
    "# we could make a new list for our data"
   ]
  },
  {
   "cell_type": "code",
   "execution_count": 20,
   "metadata": {},
   "outputs": [],
   "source": [
    "new_data = [] # new list to hold our tuples of data\n",
    "\n",
    "for row in data:\n",
    "    num_digits = 0 # our new attribute for the tuple\n",
    "    \n",
    "    password = row[1]\n",
    "    \n",
    "    password_digits = [substring_char in password for substring_char in string.punctuation]\n",
    "    num_digits += sum(password_digits)\n",
    "        \n",
    "    new_row = (row[:], num_digits) # make a new tuple that's all our old data, and our new element num_digits\n",
    "    new_data.append(new_row) # append our new tuple to a list"
   ]
  },
  {
   "cell_type": "code",
   "execution_count": 21,
   "metadata": {},
   "outputs": [
    {
     "name": "stdout",
     "output_type": "stream",
     "text": [
      "Example of a row (('1', 'password', 'password-related', '6.91', 'years', '2.17', '1', '8', '11'), 0)\n"
     ]
    }
   ],
   "source": [
    "print(f\"Example of a row\", new_data[0])"
   ]
  },
  {
   "cell_type": "markdown",
   "metadata": {},
   "source": [
    "### 3. Correlation between password length and strength? number of special characters and strength?\n",
    "\n",
    "https://docs.scipy.org/doc/scipy/reference/generated/scipy.stats.pearsonr.html\n"
   ]
  },
  {
   "cell_type": "code",
   "execution_count": 22,
   "metadata": {},
   "outputs": [],
   "source": [
    "from scipy.stats import pearsonr"
   ]
  },
  {
   "cell_type": "code",
   "execution_count": 23,
   "metadata": {},
   "outputs": [],
   "source": [
    "# subsetting the data to remove some pesky null values at the end of the dataset\n",
    "# this is risky to drop without knowing why, but doing it for testing\n",
    "data = data[:-7]"
   ]
  },
  {
   "cell_type": "code",
   "execution_count": 24,
   "metadata": {},
   "outputs": [],
   "source": [
    "# let's make two lists that subset just the columns we're interested in\n",
    "# in list comprehensions we're iterating through our list of tuples and selecting the element we care about\n",
    "# we're also calling the float() method to change the type, or len() method to get the length of the string\n",
    "strength = [float(row[3]) for row in data]\n",
    "length = [len(row[1]) for row in data]"
   ]
  },
  {
   "cell_type": "code",
   "execution_count": 25,
   "metadata": {},
   "outputs": [
    {
     "name": "stdout",
     "output_type": "stream",
     "text": [
      "<class 'tuple'>\n",
      "(0.08344090882053395, 0.062268658837267885)\n"
     ]
    }
   ],
   "source": [
    "result = pearsonr(strength, length)\n",
    "print(type(result))\n",
    "print(result) # our result is a tuple!"
   ]
  },
  {
   "cell_type": "code",
   "execution_count": 26,
   "metadata": {},
   "outputs": [],
   "source": [
    "# we can unpack this tuple to assign the result to variables in one step\n",
    "corr, p_val = pearsonr(strength, length)"
   ]
  },
  {
   "cell_type": "code",
   "execution_count": 27,
   "metadata": {},
   "outputs": [
    {
     "name": "stdout",
     "output_type": "stream",
     "text": [
      "corr 0.08344090882053395\n",
      "p_val 0.062268658837267885\n"
     ]
    }
   ],
   "source": [
    "# Analyze our result\n",
    "print(\"corr\", corr)\n",
    "print(\"p_val\", p_val)\n",
    "if p_val <= .05:\n",
    "    \"We reject the null hypothesis!\"\n",
    "else:\n",
    "    \"We fail to reject null hypothesis that length and strength are uncorrelated\""
   ]
  },
  {
   "cell_type": "code",
   "execution_count": null,
   "metadata": {},
   "outputs": [],
   "source": []
  },
  {
   "cell_type": "code",
   "execution_count": null,
   "metadata": {},
   "outputs": [],
   "source": []
  }
 ],
 "metadata": {
  "kernelspec": {
   "display_name": "Python 3",
   "language": "python",
   "name": "python3"
  },
  "language_info": {
   "codemirror_mode": {
    "name": "ipython",
    "version": 3
   },
   "file_extension": ".py",
   "mimetype": "text/x-python",
   "name": "python",
   "nbconvert_exporter": "python",
   "pygments_lexer": "ipython3",
   "version": "3.7.6"
  }
 },
 "nbformat": 4,
 "nbformat_minor": 4
}
